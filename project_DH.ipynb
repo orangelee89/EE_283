{
 "cells": [
  {
   "cell_type": "code",
   "execution_count": 14,
   "id": "39bb7c5d",
   "metadata": {},
   "outputs": [],
   "source": [
    "import numpy as np\n",
    "from math import pi, cos, sin, sqrt\n",
    "\n",
    "\n",
    "def dh_transform(alpha,a, d, theta):\n",
    "\n",
    "    \n",
    "    return np.array([\n",
    "        [np.cos(theta), -np.sin(theta), 0, a],\n",
    "        [np.sin(theta) * np.cos(alpha), np.cos(theta) * np.cos(alpha), -np.sin(alpha), -d * np.sin(alpha)],\n",
    "        [np.sin(theta) * np.sin(alpha), np.cos(theta) * np.sin(alpha), np.cos(alpha), d * np.cos(alpha)],\n",
    "        [0, 0, 0, 1]\n",
    "    ])\n",
    "\n",
    "def forward_kinematics_dh(joints, L =[5,11,0,5]):\n",
    "\n",
    "\n",
    "#     dh_params= [[0,0,L[0],joints[0]],\n",
    "#                 [pi/2,0,0,joints[1]],\n",
    "#                 [-(pi/2),0,L[1]+joints[2],0],\n",
    "#                 [pi/2,0,0,joints[3]],\n",
    "#                 [-pi/2,-L[3],0,0]\n",
    "        \n",
    "#     ]\n",
    "    dh_params=[ [0,0,L[0],joints[0]],\n",
    "                [pi/2,0,0,pi/2+joints[1]],\n",
    "                [pi/2,0,L[1]+joints[2],0],\n",
    "                [-pi/2,0,0,-pi/2+joints[3]],\n",
    "                [-pi/2,L[3],0,0]\n",
    "              \n",
    "              ]\n",
    "    T = np.eye(4)\n",
    "    for params in dh_params:\n",
    "        T = np.dot(T, dh_transform(*params))\n",
    "        \n",
    "\n",
    "\n",
    "    return T\n",
    "\n",
    "\n"
   ]
  },
  {
   "cell_type": "code",
   "execution_count": 15,
   "id": "6b619ea4",
   "metadata": {},
   "outputs": [
    {
     "data": {
      "text/plain": [
       "array([[ 0., -0., -1.,  0.],\n",
       "       [ 0.,  1., -0.,  0.],\n",
       "       [ 1., -0.,  0., 22.],\n",
       "       [ 0.,  0.,  0.,  1.]])"
      ]
     },
     "execution_count": 15,
     "metadata": {},
     "output_type": "execute_result"
    }
   ],
   "source": [
    "joints =[0,pi/2,1,0]; L =[5,11,0,5]\n",
    "\n",
    "T = forward_kinematics_dh(joints,L);\n",
    "T=np.around(T, 4)\n",
    "T"
   ]
  },
  {
   "cell_type": "code",
   "execution_count": null,
   "id": "520bdb04",
   "metadata": {},
   "outputs": [],
   "source": []
  },
  {
   "cell_type": "code",
   "execution_count": 16,
   "id": "35c9db0b",
   "metadata": {},
   "outputs": [
    {
     "data": {
      "text/plain": [
       "array([[ 1.,  0.,  0., 16.],\n",
       "       [ 0.,  1.,  0., -0.],\n",
       "       [ 0.,  0.,  1.,  5.],\n",
       "       [ 0.,  0.,  0.,  1.]])"
      ]
     },
     "execution_count": 16,
     "metadata": {},
     "output_type": "execute_result"
    }
   ],
   "source": [
    "joints = [0, 0, 0, 0];L =[5,11,0,5]\n",
    "T = forward_kinematics_dh(joints,L);\n",
    "T=np.around(T, 4)\n",
    "T"
   ]
  },
  {
   "cell_type": "code",
   "execution_count": null,
   "id": "2a13389e",
   "metadata": {},
   "outputs": [],
   "source": []
  }
 ],
 "metadata": {
  "kernelspec": {
   "display_name": "Python 3 (ipykernel)",
   "language": "python",
   "name": "python3"
  },
  "language_info": {
   "codemirror_mode": {
    "name": "ipython",
    "version": 3
   },
   "file_extension": ".py",
   "mimetype": "text/x-python",
   "name": "python",
   "nbconvert_exporter": "python",
   "pygments_lexer": "ipython3",
   "version": "3.11.5"
  }
 },
 "nbformat": 4,
 "nbformat_minor": 5
}
