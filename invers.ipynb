{
 "cells": [
  {
   "cell_type": "code",
   "execution_count": 73,
   "id": "6c708c80",
   "metadata": {},
   "outputs": [],
   "source": [
    "import numpy as np\n",
    "from math import pi, cos, sin, atan, atan2, sqrt, acos\n",
    "\n",
    "def inverse_kinematics(position):\n",
    "    # input: the position of end effector [x, y, z]\n",
    "    # output: joint angles [joint1, joint2, joint3]\n",
    "    # add your code here to complete the computation\n",
    "\n",
    "    link1z = 0.065\n",
    "    link2z = 0.039\n",
    "    link3x = 0.050\n",
    "    link3z = 0.150\n",
    "    link4x = 0.150\n",
    "    x = position[0]\n",
    "    y = position[1]\n",
    "    z = position[2]\n",
    "    \n",
    "    \n",
    "    l2=sqrt(link3x**2+link3z**2)\n",
    "    l5=abs(z-link1z-link2z)\n",
    "    l6=sqrt(x**2+y**2)   ##2\n",
    "    l3=sqrt(l5**2+l6**2)\n",
    "    Gama=atan2(l5,l6)\n",
    "    Alpha=atan2(link3x,link3z)\n",
    "    theta_a=pi/2-Alpha\n",
    "    theta_a_prime=pi-theta_a\n",
    "    cos_Beta_1=(l2**2+l3**2-link4x**2)/(2.0*l2*l3)\n",
    "    Beta_1=acos(cos_Beta_1)\n",
    "    cos_mu=(link4x**2+l3**2-l2**2)/(2.0*link4x*l3)\n",
    "    mu=acos(cos_mu)\n",
    "    \n",
    "    \n",
    "    joint1=atan2(y,x)\n",
    "    joint2=pi/2-Alpha-Beta_1-Gama\n",
    "    joint3=pi-mu-Beta_1-theta_a_prime\n",
    "    \n",
    "    \n",
    "    \n",
    "    \n",
    " \n",
    "    \n",
    "    \n",
    "    \n",
    "    \n",
    "    print(\"l2=\",l2)\n",
    "    print(\"a=\",a)\n",
    "    print(\"l3=\",l3)\n",
    "    print(\"b22=\",b22)\n",
    "    print(\"l5=\",l5)\n",
    "    print(\"l6=\",l6)\n",
    "    \n",
    "    print(\"c=\",c)\n",
    "    print(\"b1=\",b1)\n",
    "    \n",
    "    \n",
    "    \n",
    "    \n",
    "    return [joint1, joint2, joint3]"
   ]
  },
  {
   "cell_type": "code",
   "execution_count": 77,
   "id": "667b00d5",
   "metadata": {},
   "outputs": [
    {
     "name": "stdout",
     "output_type": "stream",
     "text": [
      "1.5704087886203202\n",
      "l2= 0.15811388300841897\n",
      "a= 0.3217505543966423\n",
      "l3= 0.1217370629676928\n",
      "b22= 1.892546881191539\n",
      "l5= 0.11895\n",
      "l6= -0.0259\n",
      "c= 1.7851885579760043\n",
      "b1= 1.5706296371873607\n",
      "[-2.618091527473313, -2.106772422765111, 0.3221380925712187]\n"
     ]
    }
   ],
   "source": [
    "position=[-0.02590,-0.01495,0.35212]\n",
    "t=inverse_kinematics(position)\n",
    "print(t)"
   ]
  },
  {
   "cell_type": "code",
   "execution_count": 20,
   "id": "5416c067",
   "metadata": {},
   "outputs": [
    {
     "ename": "NameError",
     "evalue": "name 'l1' is not defined",
     "output_type": "error",
     "traceback": [
      "\u001b[0;31m---------------------------------------------------------------------------\u001b[0m",
      "\u001b[0;31mNameError\u001b[0m                                 Traceback (most recent call last)",
      "Cell \u001b[0;32mIn[20], line 22\u001b[0m\n\u001b[1;32m     19\u001b[0m l3\u001b[38;5;241m=\u001b[39msqrt(l5\u001b[38;5;241m*\u001b[39m\u001b[38;5;241m*\u001b[39m\u001b[38;5;241m2\u001b[39m\u001b[38;5;241m+\u001b[39ml6\u001b[38;5;241m*\u001b[39m\u001b[38;5;241m*\u001b[39m\u001b[38;5;241m2\u001b[39m)\n\u001b[1;32m     20\u001b[0m c\u001b[38;5;241m=\u001b[39macos(l6)\n\u001b[0;32m---> 22\u001b[0m cos_t\u001b[38;5;241m=\u001b[39m(l1\u001b[38;5;241m*\u001b[39m\u001b[38;5;241m*\u001b[39m\u001b[38;5;241m2\u001b[39m\u001b[38;5;241m+\u001b[39mlink4x\u001b[38;5;241m*\u001b[39m\u001b[38;5;241m*\u001b[39m\u001b[38;5;241m2\u001b[39m\u001b[38;5;241m-\u001b[39ml3\u001b[38;5;241m*\u001b[39m\u001b[38;5;241m*\u001b[39m\u001b[38;5;241m2\u001b[39m)\u001b[38;5;241m/\u001b[39m\u001b[38;5;241m2.0\u001b[39m\u001b[38;5;241m*\u001b[39ml1\u001b[38;5;241m*\u001b[39mlink4x\n\u001b[1;32m     23\u001b[0m b2\u001b[38;5;241m=\u001b[39macos(cos_t)\n\u001b[1;32m     24\u001b[0m cos_t\u001b[38;5;241m=\u001b[39m(l2\u001b[38;5;241m*\u001b[39m\u001b[38;5;241m*\u001b[39m\u001b[38;5;241m2\u001b[39m\u001b[38;5;241m+\u001b[39ml3\u001b[38;5;241m*\u001b[39m\u001b[38;5;241m*\u001b[39m\u001b[38;5;241m2\u001b[39m\u001b[38;5;241m-\u001b[39mlink4x\u001b[38;5;241m*\u001b[39m\u001b[38;5;241m*\u001b[39m\u001b[38;5;241m2\u001b[39m)\u001b[38;5;241m/\u001b[39m\u001b[38;5;241m2.0\u001b[39m\u001b[38;5;241m*\u001b[39ml2\u001b[38;5;241m*\u001b[39ml3\n",
      "\u001b[0;31mNameError\u001b[0m: name 'l1' is not defined"
     ]
    }
   ],
   "source": [
    "\n",
    "    link1z = 0.065\n",
    "    link2z = 0.039\n",
    "    link3x = 0.050\n",
    "    link3z = 0.150\n",
    "    link4x = 0.150\n",
    "#     x = position[0]\n",
    "#     y = position[1]\n",
    "#     z = position[2]\n",
    "    x = 0.17320\n",
    "    y = 0.10000\n",
    "    z= 0.25391\n",
    "    \n",
    "    l2=sqrt(link3x**2+link3z**2)\n",
    "    a=acos(link3x/l2)\n",
    "    b22=pi-a\n",
    "    \n",
    "    l5=z-link1z-link2z\n",
    "    l6=x\n",
    "    l3=sqrt(l5**2+l6**2)\n",
    "    c=acos(l6)\n",
    "    \n",
    "    cos_t=(l1**2+link4x**2-l3**2)/2.0*l1*link4x\n",
    "    b2=acos(cos_t)\n",
    "    cos_t=(l2**2+l3**2-link4x**2)/2.0*l2*l3\n",
    "    b1=acos(cos_t)\n",
    "    joint2=(pi/2)-a-c-b1\n",
    "    joint3=b2-b22\n",
    "    \n",
    "    theta1=atan2(y,x)\n",
    "    print(l2)\n",
    "    print(l3)\n",
    "\n",
    "    print(l5)\n",
    "    print(l6)\n",
    "    print(a)\n",
    "    print(c)"
   ]
  },
  {
   "cell_type": "code",
   "execution_count": 1,
   "id": "022ec44c",
   "metadata": {},
   "outputs": [
    {
     "ename": "NameError",
     "evalue": "name 'sqrt' is not defined",
     "output_type": "error",
     "traceback": [
      "\u001b[0;31m---------------------------------------------------------------------------\u001b[0m",
      "\u001b[0;31mNameError\u001b[0m                                 Traceback (most recent call last)",
      "Cell \u001b[0;32mIn[1], line 1\u001b[0m\n\u001b[0;32m----> 1\u001b[0m \u001b[38;5;241m-\u001b[39m\u001b[38;5;241m0.5\u001b[39m\u001b[38;5;241m*\u001b[39m(\u001b[38;5;241m6\u001b[39m\u001b[38;5;241m*\u001b[39msqrt(\u001b[38;5;241m2\u001b[39m)\u001b[38;5;241m+\u001b[39m\u001b[38;5;241m5\u001b[39m)\n",
      "\u001b[0;31mNameError\u001b[0m: name 'sqrt' is not defined"
     ]
    }
   ],
   "source": []
  },
  {
   "cell_type": "code",
   "execution_count": null,
   "id": "481fb7bf",
   "metadata": {},
   "outputs": [],
   "source": []
  }
 ],
 "metadata": {
  "kernelspec": {
   "display_name": "Python 3 (ipykernel)",
   "language": "python",
   "name": "python3"
  },
  "language_info": {
   "codemirror_mode": {
    "name": "ipython",
    "version": 3
   },
   "file_extension": ".py",
   "mimetype": "text/x-python",
   "name": "python",
   "nbconvert_exporter": "python",
   "pygments_lexer": "ipython3",
   "version": "3.11.5"
  }
 },
 "nbformat": 4,
 "nbformat_minor": 5
}
